{
 "cells": [
  {
   "cell_type": "code",
   "execution_count": 2,
   "metadata": {},
   "outputs": [
    {
     "data": {
      "text/plain": [
       "10"
      ]
     },
     "execution_count": 2,
     "metadata": {},
     "output_type": "execute_result"
    }
   ],
   "source": [
    "#Numeros enteros\n",
    "num=10\n",
    "#numeros en cadenas de texto\n",
    "num=\"10\"\n",
    "#Transformamos el numero de la cadena a entero\n",
    "num2=int(num)\n",
    "num2"
   ]
  },
  {
   "cell_type": "code",
   "execution_count": 4,
   "metadata": {},
   "outputs": [
    {
     "data": {
      "text/plain": [
       "1000000"
      ]
     },
     "execution_count": 4,
     "metadata": {},
     "output_type": "execute_result"
    }
   ],
   "source": [
    "#Legibidad del codigo en numeros\n",
    "num=1000000\n",
    "num\n",
    "#Se usa para mejorar la legibidad\n",
    "num2=1_000_000\n",
    "num2\n"
   ]
  },
  {
   "cell_type": "code",
   "execution_count": 9,
   "metadata": {},
   "outputs": [
    {
     "data": {
      "text/plain": [
       "10.5"
      ]
     },
     "execution_count": 9,
     "metadata": {},
     "output_type": "execute_result"
    }
   ],
   "source": [
    "#Numeros Flotantes o decimales\n",
    "num=10.5\n",
    "#Numeros en cadenas tambien se pueden \n",
    "# convertir a float\n",
    "num=\"10.5\" \n",
    "num\n",
    "num2=float(num)\n",
    "num2"
   ]
  },
  {
   "cell_type": "code",
   "execution_count": 5,
   "metadata": {},
   "outputs": [
    {
     "data": {
      "text/plain": [
       "inf"
      ]
     },
     "execution_count": 5,
     "metadata": {},
     "output_type": "execute_result"
    }
   ],
   "source": [
    "#3 maneras de escribir numeros grandes\n",
    "num=10000000.5\n",
    "#Como buena practica y legibidad\n",
    "num2=1_000_000.5\n",
    "#De forma matematica\n",
    "num3=1e6\n",
    "#El maximo de los float lo mostrara con un \n",
    "#mensaje : inf\n",
    "num4=2e399\n",
    "\n"
   ]
  },
  {
   "cell_type": "code",
   "execution_count": 8,
   "metadata": {},
   "outputs": [
    {
     "data": {
      "text/plain": [
       "2.0"
      ]
     },
     "execution_count": 8,
     "metadata": {},
     "output_type": "execute_result"
    }
   ],
   "source": [
    "#Numeros complejos\n",
    "#se ocupan para el machine learning y otros\n",
    "num=1+2j\n",
    "#para acceder al numero real\n",
    "num.real\n",
    "#para acceder al numero imaginario\n",
    "num.imag\n"
   ]
  }
 ],
 "metadata": {
  "kernelspec": {
   "display_name": ".venv",
   "language": "python",
   "name": "python3"
  },
  "language_info": {
   "codemirror_mode": {
    "name": "ipython",
    "version": 3
   },
   "file_extension": ".py",
   "mimetype": "text/x-python",
   "name": "python",
   "nbconvert_exporter": "python",
   "pygments_lexer": "ipython3",
   "version": "3.11.4"
  },
  "orig_nbformat": 4
 },
 "nbformat": 4,
 "nbformat_minor": 2
}
