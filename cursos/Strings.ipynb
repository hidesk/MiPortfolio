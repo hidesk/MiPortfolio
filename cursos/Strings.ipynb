{
 "cells": [
  {
   "cell_type": "code",
   "execution_count": 5,
   "metadata": {},
   "outputs": [
    {
     "data": {
      "text/plain": [
       "'s'"
      ]
     },
     "execution_count": 5,
     "metadata": {},
     "output_type": "execute_result"
    }
   ],
   "source": [
    "#Index\n",
    "#Sirve para acceder a un caracter especifico\n",
    "#de la string\n",
    "nombre=\"Nicolas\"\n",
    "nombre[-1]"
   ]
  },
  {
   "cell_type": "code",
   "execution_count": 12,
   "metadata": {},
   "outputs": [
    {
     "data": {
      "text/plain": [
       "'Rojas'"
      ]
     },
     "execution_count": 12,
     "metadata": {},
     "output_type": "execute_result"
    }
   ],
   "source": [
    "#Slice\n",
    "#Al poner : y otro numero limitamos la \n",
    "#index en la string\n",
    "nombre=\"Nicolas Rojas\"\n",
    "nombre[0:7]\n",
    "nombre[8:]\n"
   ]
  },
  {
   "cell_type": "code",
   "execution_count": 13,
   "metadata": {},
   "outputs": [
    {
     "data": {
      "text/plain": [
       "'Ncl'"
      ]
     },
     "execution_count": 13,
     "metadata": {},
     "output_type": "execute_result"
    }
   ],
   "source": [
    "#Stride\n",
    "# Al poner un 3er : el numero sera \n",
    "#los saltos en ls string\n",
    "nombre=\"Nicolas Rojas\"\n",
    "nombre[0:6:2]\n"
   ]
  },
  {
   "cell_type": "code",
   "execution_count": 22,
   "metadata": {},
   "outputs": [
    {
     "name": "stdout",
     "output_type": "stream",
     "text": [
      "Nicolas\n",
      "Rojas\n",
      "Arias\n",
      "Nicolas\n",
      "Rojas\n",
      "Arias\n"
     ]
    }
   ],
   "source": [
    "#Formas de hacer un salto de linea en strings\n",
    "nombre=\"\"\"Nicolas\n",
    "Rojas\n",
    "Arias\"\"\"\n",
    "nombre2=\"Nicolas\\nRojas\\nArias\"\n",
    "\n",
    "print(nombre)\n",
    "print(nombre2)\n"
   ]
  },
  {
   "cell_type": "code",
   "execution_count": null,
   "metadata": {},
   "outputs": [],
   "source": []
  },
  {
   "attachments": {},
   "cell_type": "markdown",
   "metadata": {},
   "source": []
  }
 ],
 "metadata": {
  "kernelspec": {
   "display_name": ".venv",
   "language": "python",
   "name": "python3"
  },
  "language_info": {
   "codemirror_mode": {
    "name": "ipython",
    "version": 3
   },
   "file_extension": ".py",
   "mimetype": "text/x-python",
   "name": "python",
   "nbconvert_exporter": "python",
   "pygments_lexer": "ipython3",
   "version": "3.11.4"
  },
  "orig_nbformat": 4
 },
 "nbformat": 4,
 "nbformat_minor": 2
}
